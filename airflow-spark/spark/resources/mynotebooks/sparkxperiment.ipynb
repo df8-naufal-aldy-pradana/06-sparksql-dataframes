{
 "cells": [
  {
   "cell_type": "markdown",
   "id": "ad82d0e4",
   "metadata": {},
   "source": [
    "# Sparkxperiment\n",
    "This notebook will be used for experiment purpose in order to work on my assignment"
   ]
  },
  {
   "cell_type": "markdown",
   "id": "5c4fb872",
   "metadata": {},
   "source": [
    "## Import Libs"
   ]
  },
  {
   "cell_type": "code",
   "execution_count": 1,
   "id": "8667eb51",
   "metadata": {},
   "outputs": [],
   "source": [
    "import pyspark\n",
    "from pyspark.sql import SparkSession\n",
    "from pyspark.sql import functions as F"
   ]
  },
  {
   "cell_type": "code",
   "execution_count": 2,
   "id": "95c0c9c2",
   "metadata": {},
   "outputs": [
    {
     "name": "stderr",
     "output_type": "stream",
     "text": [
      "WARNING: An illegal reflective access operation has occurred\n",
      "WARNING: Illegal reflective access by org.apache.spark.unsafe.Platform (file:/usr/local/spark-3.1.2-bin-hadoop3.2/jars/spark-unsafe_2.12-3.1.2.jar) to constructor java.nio.DirectByteBuffer(long,int)\n",
      "WARNING: Please consider reporting this to the maintainers of org.apache.spark.unsafe.Platform\n",
      "WARNING: Use --illegal-access=warn to enable warnings of further illegal reflective access operations\n",
      "WARNING: All illegal access operations will be denied in a future release\n",
      "22/12/10 23:24:06 WARN NativeCodeLoader: Unable to load native-hadoop library for your platform... using builtin-java classes where applicable\n",
      "Using Spark's default log4j profile: org/apache/spark/log4j-defaults.properties\n",
      "Setting default log level to \"WARN\".\n",
      "To adjust logging level use sc.setLogLevel(newLevel). For SparkR, use setLogLevel(newLevel).\n"
     ]
    }
   ],
   "source": [
    "# Initate spark session\n",
    "from pyspark.sql import SparkSession\n",
    "\n",
    "# Spark session & context\n",
    "spark = SparkSession.builder \\\n",
    "    .master(\"local[*]\") \\\n",
    "    .appName(\"sparkxperiment\") \\\n",
    "    .getOrCreate()"
   ]
  },
  {
   "cell_type": "code",
   "execution_count": 3,
   "id": "becfd195",
   "metadata": {},
   "outputs": [
    {
     "data": {
      "text/html": [
       "\n",
       "            <div>\n",
       "                <p><b>SparkSession - in-memory</b></p>\n",
       "                \n",
       "        <div>\n",
       "            <p><b>SparkContext</b></p>\n",
       "\n",
       "            <p><a href=\"http://0f02c4af88c1:4040\">Spark UI</a></p>\n",
       "\n",
       "            <dl>\n",
       "              <dt>Version</dt>\n",
       "                <dd><code>v3.1.2</code></dd>\n",
       "              <dt>Master</dt>\n",
       "                <dd><code>local[*]</code></dd>\n",
       "              <dt>AppName</dt>\n",
       "                <dd><code>sparkxperiment</code></dd>\n",
       "            </dl>\n",
       "        </div>\n",
       "        \n",
       "            </div>\n",
       "        "
      ],
      "text/plain": [
       "<pyspark.sql.session.SparkSession at 0x7f80681cad00>"
      ]
     },
     "execution_count": 3,
     "metadata": {},
     "output_type": "execute_result"
    }
   ],
   "source": [
    "spark"
   ]
  },
  {
   "cell_type": "markdown",
   "id": "ff3dc8be",
   "metadata": {},
   "source": [
    "## Load Data"
   ]
  },
  {
   "cell_type": "code",
   "execution_count": 4,
   "id": "80b66ff9",
   "metadata": {},
   "outputs": [
    {
     "name": "stdout",
     "output_type": "stream",
     "text": [
      "/home/jovyan/work\r\n"
     ]
    }
   ],
   "source": [
    "# See current dir\n",
    "!pwd"
   ]
  },
  {
   "cell_type": "code",
   "execution_count": 5,
   "id": "4f9d7db7",
   "metadata": {},
   "outputs": [
    {
     "name": "stderr",
     "output_type": "stream",
     "text": [
      "                                                                                \r"
     ]
    }
   ],
   "source": [
    "df_fhv_trip = (\n",
    "    spark.read\n",
    "    .format(\"parquet\")\n",
    "    .option(\"header\", True)\n",
    "    .load(\"/home/jovyan/work/data/fhv_tripdata_2022-02.parquet\")\n",
    ")"
   ]
  },
  {
   "cell_type": "code",
   "execution_count": 8,
   "id": "5246318b",
   "metadata": {},
   "outputs": [
    {
     "name": "stdout",
     "output_type": "stream",
     "text": [
      "+--------------------+-------------------+-------------------+------------+------------+-------+----------------------+\n",
      "|dispatching_base_num|    pickup_datetime|   dropOff_datetime|PUlocationID|DOlocationID|SR_Flag|Affiliated_base_number|\n",
      "+--------------------+-------------------+-------------------+------------+------------+-------+----------------------+\n",
      "|              B00014|2022-02-01 00:15:00|2022-02-01 00:31:00|        null|        null|   null|                B00014|\n",
      "|              B00021|2022-02-01 00:08:40|2022-02-01 00:42:54|        95.0|       173.0|   null|       B00021         |\n",
      "|              B00021|2022-02-01 00:45:26|2022-02-01 01:04:37|       192.0|        70.0|   null|       B00021         |\n",
      "|              B00021|2022-02-01 00:50:39|2022-02-01 01:29:06|       173.0|       147.0|   null|       B00021         |\n",
      "|              B00021|2022-02-01 00:22:17|2022-02-01 00:27:29|       129.0|       129.0|   null|       B00021         |\n",
      "|              B00021|2022-02-01 00:30:39|2022-02-01 00:46:34|        82.0|        56.0|   null|       B00021         |\n",
      "|              B00021|2022-02-01 00:09:46|2022-02-01 00:19:43|       173.0|       173.0|   null|       B00021         |\n",
      "|              B00021|2022-02-01 00:35:03|2022-02-01 00:43:38|       192.0|       192.0|   null|       B00021         |\n",
      "|              B00037|2022-02-01 00:36:45|2022-02-01 00:45:14|        null|        72.0|   null|                B00037|\n",
      "|              B00037|2022-02-01 00:55:02|2022-02-01 01:03:50|        null|        35.0|   null|                B00037|\n",
      "|              B00037|2022-02-01 00:24:31|2022-02-01 00:27:15|        null|       188.0|   null|                B00037|\n",
      "|              B00037|2022-02-01 00:54:22|2022-02-01 01:02:59|        null|        71.0|   null|                B00037|\n",
      "|              B00111|2022-02-01 00:30:00|2022-02-01 00:59:00|        null|        null|   null|                B00789|\n",
      "|              B00111|2022-02-01 00:36:00|2022-02-01 02:00:00|        null|        null|   null|                B00111|\n",
      "|              B00112|2022-02-01 00:15:49|2022-02-01 00:18:21|        null|        14.0|   null|                B00112|\n",
      "|              B00112|2022-02-01 00:58:16|2022-02-01 01:00:11|        null|        14.0|   null|                B00112|\n",
      "|              B00149|2022-02-01 00:40:03|2022-02-01 00:56:37|        null|        61.0|   null|                B00149|\n",
      "|              B00149|2022-02-01 00:54:38|2022-02-01 01:28:37|        null|        49.0|   null|                B00149|\n",
      "|              B00225|2022-02-01 00:17:52|2022-02-01 00:44:11|        null|        60.0|   null|                B03404|\n",
      "|              B00225|2022-02-01 00:06:51|2022-02-01 00:17:45|        null|        37.0|   null|                B03404|\n",
      "+--------------------+-------------------+-------------------+------------+------------+-------+----------------------+\n",
      "only showing top 20 rows\n",
      "\n"
     ]
    }
   ],
   "source": [
    "df_fhv_trip.show()"
   ]
  },
  {
   "cell_type": "code",
   "execution_count": 6,
   "id": "a43dd873",
   "metadata": {},
   "outputs": [],
   "source": [
    "df_fhv_trip.createOrReplaceTempView('fhv_trip')"
   ]
  },
  {
   "cell_type": "markdown",
   "id": "6c36e1d0",
   "metadata": {},
   "source": [
    "## 1. How many taxi trips were there on February 15?"
   ]
  },
  {
   "cell_type": "markdown",
   "id": "f864bda4",
   "metadata": {},
   "source": [
    "### With Spark SQL"
   ]
  },
  {
   "cell_type": "code",
   "execution_count": 24,
   "id": "117b17af",
   "metadata": {},
   "outputs": [],
   "source": [
    "df_result1_sql = spark.sql(\n",
    "\"\"\"\n",
    "SELECT count(*)\n",
    "FROM fhv_trip\n",
    "WHERE pickup_datetime LIKE \"%2022-02-15%\"\n",
    "\"\"\")"
   ]
  },
  {
   "cell_type": "code",
   "execution_count": 25,
   "id": "bd1f0dcf",
   "metadata": {},
   "outputs": [
    {
     "name": "stderr",
     "output_type": "stream",
     "text": [
      "[Stage 13:=============================>                            (1 + 1) / 2]\r"
     ]
    },
    {
     "name": "stdout",
     "output_type": "stream",
     "text": [
      "+--------+\n",
      "|count(1)|\n",
      "+--------+\n",
      "|   51310|\n",
      "+--------+\n",
      "\n"
     ]
    },
    {
     "name": "stderr",
     "output_type": "stream",
     "text": [
      "                                                                                \r"
     ]
    }
   ],
   "source": [
    "df_result1_sql.show()"
   ]
  },
  {
   "cell_type": "markdown",
   "id": "7fbc783c",
   "metadata": {},
   "source": [
    "### With Spark"
   ]
  },
  {
   "cell_type": "code",
   "execution_count": 26,
   "id": "ef46e380",
   "metadata": {},
   "outputs": [
    {
     "name": "stderr",
     "output_type": "stream",
     "text": [
      "                                                                                \r"
     ]
    }
   ],
   "source": [
    "df_result1_spark = (df_fhv_trip.select('dispatching_base_num') \\\n",
    "    .filter(df_fhv_trip.pickup_datetime.contains(\"2022-02-15\")) \\\n",
    "    .count())"
   ]
  },
  {
   "cell_type": "code",
   "execution_count": 27,
   "id": "a6cec604",
   "metadata": {},
   "outputs": [
    {
     "data": {
      "text/plain": [
       "51310"
      ]
     },
     "execution_count": 27,
     "metadata": {},
     "output_type": "execute_result"
    }
   ],
   "source": [
    "df_result1_spark"
   ]
  },
  {
   "cell_type": "markdown",
   "id": "170b2880",
   "metadata": {},
   "source": [
    "## 2. Find the longest trip for each day ?"
   ]
  },
  {
   "cell_type": "code",
   "execution_count": null,
   "id": "9df5679c",
   "metadata": {},
   "outputs": [],
   "source": []
  },
  {
   "cell_type": "markdown",
   "id": "771cc92b",
   "metadata": {},
   "source": [
    "## 3. Find Top 5 Most frequent `dispatching_base_num` ?"
   ]
  },
  {
   "cell_type": "markdown",
   "id": "02d1b1d9",
   "metadata": {},
   "source": [
    "### With Spark SQL"
   ]
  },
  {
   "cell_type": "code",
   "execution_count": 20,
   "id": "aa987765",
   "metadata": {},
   "outputs": [],
   "source": [
    "df_result3_sql = spark.sql(\n",
    "\"\"\"\n",
    "WITH five_most_freq AS(\n",
    "SELECT dispatching_base_num, COUNT(dispatching_base_num) AS freq\n",
    "FROM fhv_trip\n",
    "GROUP BY dispatching_base_num\n",
    "ORDER BY freq DESC\n",
    "LIMIT 5\n",
    ")\n",
    "\n",
    "SELECT *\n",
    "FROM five_most_freq\n",
    "\"\"\")"
   ]
  },
  {
   "cell_type": "code",
   "execution_count": 21,
   "id": "3686ea7e",
   "metadata": {
    "scrolled": true
   },
   "outputs": [
    {
     "name": "stderr",
     "output_type": "stream",
     "text": [
      "[Stage 9:======================================================>(199 + 1) / 200]\r"
     ]
    },
    {
     "name": "stdout",
     "output_type": "stream",
     "text": [
      "+--------------------+-----+\n",
      "|dispatching_base_num| freq|\n",
      "+--------------------+-----+\n",
      "|              B03284|84472|\n",
      "|              B00856|47567|\n",
      "|              B02799|33214|\n",
      "|              B03016|31220|\n",
      "|              B01145|30468|\n",
      "+--------------------+-----+\n",
      "\n"
     ]
    },
    {
     "name": "stderr",
     "output_type": "stream",
     "text": [
      "                                                                                \r"
     ]
    }
   ],
   "source": [
    "df_result3_sql.show()"
   ]
  },
  {
   "cell_type": "markdown",
   "id": "56bf99c3",
   "metadata": {},
   "source": [
    "## 4. Find Top 5 Most common location pairs (PUlocationID and DOlocationID)?"
   ]
  },
  {
   "cell_type": "code",
   "execution_count": null,
   "id": "df2e1670",
   "metadata": {},
   "outputs": [],
   "source": [
    "def crazy_stuff(pu_loc, do_loc):\n",
    "    num = int(base_num[1:])\n",
    "    if num % 7 == 0:\n",
    "        return f's/{num:03x}'\n",
    "    elif num % 3 == 0:\n",
    "        return f'a/{num:03x}'\n",
    "    else:\n",
    "        return f'e/{num:03x}'"
   ]
  },
  {
   "cell_type": "markdown",
   "id": "a1436e20",
   "metadata": {},
   "source": []
  }
 ],
 "metadata": {
  "kernelspec": {
   "display_name": "Python 3 (ipykernel)",
   "language": "python",
   "name": "python3"
  },
  "language_info": {
   "codemirror_mode": {
    "name": "ipython",
    "version": 3
   },
   "file_extension": ".py",
   "mimetype": "text/x-python",
   "name": "python",
   "nbconvert_exporter": "python",
   "pygments_lexer": "ipython3",
   "version": "3.9.7"
  }
 },
 "nbformat": 4,
 "nbformat_minor": 5
}
